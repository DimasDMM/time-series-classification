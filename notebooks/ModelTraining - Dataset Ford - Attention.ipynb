{
 "cells": [
  {
   "cell_type": "markdown",
   "metadata": {},
   "source": [
    "# Training with Attention-LSTM"
   ]
  },
  {
   "cell_type": "code",
   "execution_count": 1,
   "metadata": {},
   "outputs": [
    {
     "name": "stderr",
     "output_type": "stream",
     "text": [
      "/Users/dimasdmm/opt/anaconda3/lib/python3.7/site-packages/tensorflow_addons/utils/ensure_tf_install.py:44: UserWarning: You are currently using a nightly version of TensorFlow (2.2.0-dev20200422). \n",
      "TensorFlow Addons offers no support for the nightly versions of TensorFlow. Some things might work, some other might not. \n",
      "If you encounter a bug, do not file an issue on GitHub.\n",
      "  UserWarning,\n"
     ]
    }
   ],
   "source": [
    "import os\n",
    "import sys\n",
    "import numpy as np\n",
    "import matplotlib.pyplot as plt\n",
    "\n",
    "import tensorflow as tf\n",
    "import tensorflow_addons as tfa\n",
    "from tensorflow.keras.layers import Bidirectional, Dense, LSTM, Input, Dropout, Concatenate\n",
    "\n",
    "from sklearn.model_selection import train_test_split\n",
    "from sklearn.utils import class_weight\n",
    "\n",
    "# Import functions from relative path\n",
    "from lib.ModelLoader import ModelLoader\n",
    "from lib.ModelEvaluator import ModelEvaluator\n",
    "from lib.AttentionLayer import AttentionLayer as Attention"
   ]
  },
  {
   "cell_type": "code",
   "execution_count": 2,
   "metadata": {},
   "outputs": [],
   "source": [
    "artifacts_path = os.path.abspath(os.path.join('../artifacts'))\n",
    "model_loader = ModelLoader(artifacts_path)"
   ]
  },
  {
   "cell_type": "markdown",
   "metadata": {},
   "source": [
    "## Load dataset"
   ]
  },
  {
   "cell_type": "code",
   "execution_count": 3,
   "metadata": {},
   "outputs": [
    {
     "name": "stdout",
     "output_type": "stream",
     "text": [
      "Train: 2520\n",
      "Test: 1081\n",
      "Data loaded!\n"
     ]
    }
   ],
   "source": [
    "DATASET = '../data/ford/FordA.txt'\n",
    "\n",
    "series = []\n",
    "labels = []\n",
    "\n",
    "with open(DATASET, 'r') as fp:\n",
    "    for line in fp:\n",
    "        values = line.strip().split()\n",
    "        labels.append(float(values[0]) == 1)\n",
    "        series.append(np.array(values[1:], dtype=np.float32))\n",
    "\n",
    "# Transform into numpy arrays\n",
    "series = np.array(series)\n",
    "labels = np.array(labels)\n",
    "\n",
    "# It is necessary to transform the array into 3D\n",
    "series = series.reshape(series.shape[0], series.shape[1], 1)\n",
    "\n",
    "X_train, X_test, Y_train, Y_test = train_test_split(series, labels, test_size=0.3)\n",
    "\n",
    "print('Train: %d' % len(X_train))\n",
    "print('Test: %d' % len(X_test))\n",
    "print('Data loaded!')"
   ]
  },
  {
   "cell_type": "markdown",
   "metadata": {},
   "source": [
    "## Model definition"
   ]
  },
  {
   "cell_type": "code",
   "execution_count": 4,
   "metadata": {},
   "outputs": [],
   "source": [
    "def create_model(input_length, metrics, hidden_size=64):\n",
    "    input_layer = Input(shape=(input_length, 1), name='encoder_inputs')\n",
    "\n",
    "    lstm_layer, forward_h, forward_c, backward_h, backward_c = Bidirectional(LSTM(\n",
    "            hidden_size,\n",
    "            dropout=0.3,\n",
    "            return_sequences=True,\n",
    "            return_state=True), name='bi_lstm')(input_layer)\n",
    "    \n",
    "    state_h = Concatenate()([forward_h, backward_h])\n",
    "    state_c = Concatenate()([forward_c, backward_c])\n",
    "    context_vector, attention_weights = Attention()(lstm_layer, state_h)\n",
    "    \n",
    "    dense_layer = Dense(32, activation='relu')(context_vector)\n",
    "    output_layer = Dense(1, activation='sigmoid')(context_vector)\n",
    "\n",
    "    model = tf.keras.Model(inputs=input_layer, outputs=output_layer)\n",
    "    \n",
    "    model.compile(optimizer=tf.keras.optimizers.Adam(),\n",
    "                  loss=tf.keras.losses.BinaryCrossentropy(),\n",
    "                  metrics=metrics)\n",
    "\n",
    "    return model"
   ]
  },
  {
   "cell_type": "code",
   "execution_count": 7,
   "metadata": {},
   "outputs": [
    {
     "name": "stdout",
     "output_type": "stream",
     "text": [
      "Model: \"model\"\n",
      "__________________________________________________________________________________________________\n",
      "Layer (type)                    Output Shape         Param #     Connected to                     \n",
      "==================================================================================================\n",
      "encoder_inputs (InputLayer)     [(None, 500, 1)]     0                                            \n",
      "__________________________________________________________________________________________________\n",
      "bi_lstm (Bidirectional)         [(None, 500, 128), ( 33792       encoder_inputs[0][0]             \n",
      "__________________________________________________________________________________________________\n",
      "concatenate (Concatenate)       (None, 128)          0           bi_lstm[0][1]                    \n",
      "                                                                 bi_lstm[0][3]                    \n",
      "__________________________________________________________________________________________________\n",
      "attention_layer (AttentionLayer ((None, 128), (None, 4145        bi_lstm[0][0]                    \n",
      "__________________________________________________________________________________________________\n",
      "dense_4 (Dense)                 (None, 1)            129         attention_layer[0][0]            \n",
      "==================================================================================================\n",
      "Total params: 38,066\n",
      "Trainable params: 38,066\n",
      "Non-trainable params: 0\n",
      "__________________________________________________________________________________________________\n",
      "None\n"
     ]
    }
   ],
   "source": [
    "METRICS = [\n",
    "    tf.keras.metrics.BinaryAccuracy(name='accuracy'),\n",
    "    tf.keras.metrics.Precision(name='precision'),\n",
    "    tf.keras.metrics.Recall(name='recall'),\n",
    "    tf.keras.metrics.AUC(name='auc'),\n",
    "    tfa.metrics.F1Score(num_classes=1)\n",
    "]\n",
    "\n",
    "# Length of each audio sequence\n",
    "INPUT_LENGTH = 500\n",
    "\n",
    "model = create_model(INPUT_LENGTH, METRICS)\n",
    "\n",
    "print(model.summary())"
   ]
  },
  {
   "cell_type": "code",
   "execution_count": 8,
   "metadata": {},
   "outputs": [
    {
     "name": "stdout",
     "output_type": "stream",
     "text": [
      "Epoch 1/8\n",
      "79/79 [==============================] - 31s 397ms/step - loss: 0.6942 - accuracy: 0.4821 - precision: 0.4709 - recall: 0.6435 - auc: 0.4967 - f1_score: 0.6484 - val_loss: 0.6923 - val_accuracy: 0.5051 - val_precision: 0.5051 - val_recall: 0.9982 - val_auc: 0.5150 - val_f1_score: 0.6712\n",
      "Epoch 2/8\n",
      "79/79 [==============================] - 29s 370ms/step - loss: 0.6838 - accuracy: 0.5349 - precision: 0.5222 - recall: 0.3598 - auc: 0.5679 - f1_score: 0.6484 - val_loss: 0.7111 - val_accuracy: 0.5939 - val_precision: 0.5546 - val_recall: 0.9945 - val_auc: 0.6414 - val_f1_score: 0.6712\n",
      "Epoch 3/8\n",
      "79/79 [==============================] - 28s 357ms/step - loss: 0.6712 - accuracy: 0.6099 - precision: 0.5784 - recall: 0.6898 - auc: 0.6352 - f1_score: 0.6484 - val_loss: 0.6223 - val_accuracy: 0.6920 - val_precision: 0.6374 - val_recall: 0.9048 - val_auc: 0.6991 - val_f1_score: 0.6712\n",
      "Epoch 4/8\n",
      "79/79 [==============================] - 28s 350ms/step - loss: 0.6156 - accuracy: 0.6560 - precision: 0.6166 - recall: 0.7477 - auc: 0.7115 - f1_score: 0.6484 - val_loss: 0.5743 - val_accuracy: 0.6929 - val_precision: 0.6651 - val_recall: 0.7894 - val_auc: 0.7596 - val_f1_score: 0.6712\n",
      "Epoch 5/8\n",
      "79/79 [==============================] - 28s 350ms/step - loss: 0.5963 - accuracy: 0.6639 - precision: 0.6284 - recall: 0.7328 - auc: 0.7366 - f1_score: 0.6484 - val_loss: 0.5417 - val_accuracy: 0.7243 - val_precision: 0.6727 - val_recall: 0.8846 - val_auc: 0.8228 - val_f1_score: 0.6712\n",
      "Epoch 6/8\n",
      "79/79 [==============================] - 28s 353ms/step - loss: 0.5295 - accuracy: 0.7210 - precision: 0.6852 - recall: 0.7742 - auc: 0.8186 - f1_score: 0.6484 - val_loss: 0.4772 - val_accuracy: 0.7678 - val_precision: 0.7391 - val_recall: 0.8352 - val_auc: 0.8667 - val_f1_score: 0.6712\n",
      "Epoch 7/8\n",
      "79/79 [==============================] - 28s 351ms/step - loss: 0.4876 - accuracy: 0.7651 - precision: 0.7552 - recall: 0.7552 - auc: 0.8462 - f1_score: 0.6484 - val_loss: 0.4368 - val_accuracy: 0.7937 - val_precision: 0.7809 - val_recall: 0.8223 - val_auc: 0.8839 - val_f1_score: 0.6712\n",
      "Epoch 8/8\n",
      "79/79 [==============================] - 28s 352ms/step - loss: 0.4808 - accuracy: 0.7718 - precision: 0.7581 - recall: 0.7701 - auc: 0.8513 - f1_score: 0.6484 - val_loss: 0.3923 - val_accuracy: 0.8400 - val_precision: 0.8566 - val_recall: 0.8205 - val_auc: 0.9098 - val_f1_score: 0.6712\n"
     ]
    }
   ],
   "source": [
    "EPOCHS = 8\n",
    "\n",
    "weights = class_weight.compute_class_weight('balanced', np.unique(Y_train), Y_train)\n",
    "weights = dict(enumerate(weights))\n",
    "\n",
    "history = model.fit(X_train,\n",
    "                    Y_train,\n",
    "                    epochs=EPOCHS,\n",
    "                    validation_data=(X_test, Y_test),\n",
    "                    class_weight=weights,\n",
    "                    verbose=1)"
   ]
  },
  {
   "cell_type": "code",
   "execution_count": 9,
   "metadata": {},
   "outputs": [
    {
     "name": "stdout",
     "output_type": "stream",
     "text": [
      "Saving model...\n",
      "INFO:tensorflow:Assets written to: /Users/dimasdmm/Documents/Master/Paper_topic/git_project/artifacts/ford-attention/assets\n",
      "Done!\n"
     ]
    }
   ],
   "source": [
    "MODEL_NAME = 'ford-attention'\n",
    "\n",
    "# Create dir to store the model and store it\n",
    "print('Saving model...')\n",
    "model_loader.create_model_dir(MODEL_NAME)\n",
    "model_loader.save_tf_model(MODEL_NAME, model)\n",
    "\n",
    "print('Done!')"
   ]
  },
  {
   "cell_type": "markdown",
   "metadata": {},
   "source": [
    "## Evaluation"
   ]
  },
  {
   "cell_type": "code",
   "execution_count": 10,
   "metadata": {},
   "outputs": [
    {
     "data": {
      "image/png": "[encoded data removed]",
      "text/plain": [
       "<Figure size 504x504 with 2 Axes>"
      ]
     },
     "metadata": {
      "needs_background": "light"
     },
     "output_type": "display_data"
    }
   ],
   "source": [
    "model_evaluator = ModelEvaluator()\n",
    "\n",
    "Y_pred = model_evaluator.make_predictions(model, X_test)\n",
    "\n",
    "cm = model_evaluator.compute_confusion_matrix(Y_test, Y_pred)\n",
    "model_scores = {\n",
    "    'accuracy': str(history.history['val_accuracy'][-1]),\n",
    "    'recall': str(history.history['val_recall'][-1]),\n",
    "    'precision': str(history.history['val_precision'][-1]),\n",
    "    'f1': str(history.history['val_f1_score'][-1][0]),\n",
    "    'confusion_matrix': cm.tolist()\n",
    "}\n",
    "\n",
    "plt.figure(figsize=(7, 7))\n",
    "model_evaluator.subplot_confusion_matrix(cm)\n",
    "plt.show()"
   ]
  },
  {
   "cell_type": "code",
   "execution_count": 11,
   "metadata": {},
   "outputs": [
    {
     "name": "stdout",
     "output_type": "stream",
     "text": [
      "Accuracy: 0.84\n",
      "F1-Score: 0.67\n"
     ]
    }
   ],
   "source": [
    "accuracy = float(model_scores['accuracy'])\n",
    "f1 = float(model_scores['f1'])\n",
    "\n",
    "print('Accuracy: %.2f' % accuracy)\n",
    "print('F1-Score: %.2f' % f1)"
   ]
  },
  {
   "cell_type": "code",
   "execution_count": 12,
   "metadata": {},
   "outputs": [
    {
     "name": "stdout",
     "output_type": "stream",
     "text": [
      "Saving evaluation results...\n",
      "Done!\n"
     ]
    }
   ],
   "source": [
    "print('Saving evaluation results...')\n",
    "model_loader.save_evaluation_results(MODEL_NAME, model_scores)\n",
    "\n",
    "print('Done!')"
   ]
  },
  {
   "cell_type": "code",
   "execution_count": null,
   "metadata": {},
   "outputs": [],
   "source": []
  }
 ],
 "metadata": {
  "kernelspec": {
   "display_name": "Python 3",
   "language": "python",
   "name": "python3"
  },
  "language_info": {
   "codemirror_mode": {
    "name": "ipython",
    "version": 3
   },
   "file_extension": ".py",
   "mimetype": "text/x-python",
   "name": "python",
   "nbconvert_exporter": "python",
   "pygments_lexer": "ipython3",
   "version": "3.7.6"
  }
 },
 "nbformat": 4,
 "nbformat_minor": 2
}
